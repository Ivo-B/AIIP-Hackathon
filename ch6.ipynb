{
 "cells": [
  {
   "cell_type": "code",
   "execution_count": 4,
   "id": "d75498b5-b3d1-4cb5-8d08-fad9f6194568",
   "metadata": {
    "tags": []
   },
   "outputs": [
    {
     "name": "stdout",
     "output_type": "stream",
     "text": [
      "./test loaded successfully.\n"
     ]
    },
    {
     "name": "stderr",
     "output_type": "stream",
     "text": []
    }
   ],
   "source": [
    "import time\n",
    "start = time.time()\n",
    "\n",
    "import deeplake\n",
    "import numpy as np\n",
    "import os\n",
    "\n",
    "deeplake.delete(\"./test\", force=True)\n",
    "ds = deeplake.empty('./test') # Creates the dataset"
   ]
  },
  {
   "cell_type": "code",
   "execution_count": 5,
   "id": "158a595f-7c66-4988-b15c-636fa7da109f",
   "metadata": {
    "tags": []
   },
   "outputs": [],
   "source": [
    "# Find the class_names and list of files that need to be uploaded\n",
    "dataset_folder = './Medical Decathlon Heart/146/artifactFiles'\n",
    "\n",
    "files_list = []\n",
    "for dirpath, dirnames, filenames in os.walk(dataset_folder):\n",
    "    for filename in filenames:\n",
    "        files_list.append(os.path.join(dirpath, filename))"
   ]
  },
  {
   "cell_type": "code",
   "execution_count": 12,
   "id": "26a2a358-74c5-464b-b3f2-3934a5c7663d",
   "metadata": {
    "tags": []
   },
   "outputs": [
    {
     "name": "stderr",
     "output_type": "stream",
     "text": []
    },
    {
     "name": "stderr",
     "output_type": "stream",
     "text": []
    },
    {
     "name": "stderr",
     "output_type": "stream",
     "text": []
    },
    {
     "name": "stderr",
     "output_type": "stream",
     "text": []
    },
    {
     "name": "stderr",
     "output_type": "stream",
     "text": []
    },
    {
     "name": "stderr",
     "output_type": "stream",
     "text": []
    },
    {
     "name": "stderr",
     "output_type": "stream",
     "text": []
    },
    {
     "name": "stderr",
     "output_type": "stream",
     "text": []
    },
    {
     "name": "stderr",
     "output_type": "stream",
     "text": []
    },
    {
     "name": "stderr",
     "output_type": "stream",
     "text": []
    },
    {
     "name": "stderr",
     "output_type": "stream",
     "text": []
    },
    {
     "name": "stderr",
     "output_type": "stream",
     "text": []
    },
    {
     "name": "stderr",
     "output_type": "stream",
     "text": []
    },
    {
     "name": "stderr",
     "output_type": "stream",
     "text": []
    }
   ],
   "source": [
    "ds.create_tensor('images', htype='nifti', sample_compression='nii.gz', exist_ok=True)\n",
    "\n",
    "# Iterate through the files and append to Deep Lake dataset\n",
    "for file in files_list[1:]:\n",
    "    \n",
    "    #Append data to the tensors\n",
    "    ds.append({'images': deeplake.read(os.path.join(file))})"
   ]
  },
  {
   "cell_type": "code",
   "execution_count": 16,
   "id": "a50b55e7-a783-48e9-a86d-79710d042af7",
   "metadata": {
    "tags": []
   },
   "outputs": [
    {
     "name": "stdout",
     "output_type": "stream",
     "text": [
      "Dataset(path='./test', tensors=['images'])\n",
      "\n",
      " tensor    htype               shape                dtype  compression\n",
      " -------  -------             -------              -------  ------- \n",
      " images    nifti   (50, 320:400, 320:400, 90:180)  float32  nii.gz  \n"
     ]
    }
   ],
   "source": [
    "ds.summary()"
   ]
  },
  {
   "cell_type": "code",
   "execution_count": null,
   "id": "7fd9446a-9118-41cd-8ed6-b039561681fe",
   "metadata": {},
   "outputs": [],
   "source": []
  }
 ],
 "metadata": {
  "environment": {
   "kernel": "conda-env-pytorch-pytorch",
   "name": "workbench-notebooks.m125",
   "type": "gcloud",
   "uri": "us-docker.pkg.dev/deeplearning-platform-release/gcr.io/workbench-notebooks:m125"
  },
  "kernelspec": {
   "display_name": "PyTorch 1-13 (Local)",
   "language": "python",
   "name": "conda-env-pytorch-pytorch"
  },
  "language_info": {
   "codemirror_mode": {
    "name": "ipython",
    "version": 3
   },
   "file_extension": ".py",
   "mimetype": "text/x-python",
   "name": "python",
   "nbconvert_exporter": "python",
   "pygments_lexer": "ipython3",
   "version": "3.10.15"
  }
 },
 "nbformat": 4,
 "nbformat_minor": 5
}
