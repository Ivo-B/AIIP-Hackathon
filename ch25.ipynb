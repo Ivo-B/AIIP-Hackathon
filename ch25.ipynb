{
 "cells": [
  {
   "cell_type": "code",
   "execution_count": 1,
   "id": "97019f57-7456-4a26-b9f3-e2a2b2084e23",
   "metadata": {
    "tags": []
   },
   "outputs": [],
   "source": [
    "import time\n",
    "start = time.time()"
   ]
  },
  {
   "cell_type": "code",
   "execution_count": 2,
   "id": "f564bc10-9318-4de5-b262-248f9ef69b20",
   "metadata": {
    "tags": []
   },
   "outputs": [
    {
     "name": "stdout",
     "output_type": "stream",
     "text": [
      "{\"timestamp\":{\"seconds\":1729863032,\"nanos\":117268219},\"severity\":\"INFO\",\"message\":\"Start gcsfuse/2.5.0 (Go version go1.23.0) for app \\\"\\\" using mount point: /home/jupyter/AIIP-Hackathon/bucker\\n\"}\n",
      "{\"timestamp\":{\"seconds\":1729863032,\"nanos\":117317505},\"severity\":\"INFO\",\"message\":\"GCSFuse config\",\"config\":{\"AppName\":\"\",\"CacheDir\":\"\",\"Debug\":{\"ExitOnInvariantViolation\":false,\"Fuse\":false,\"Gcs\":false,\"LogMutex\":false},\"EnableHns\":true,\"FileCache\":{\"CacheFileForRangeRead\":false,\"DownloadChunkSizeMb\":50,\"EnableCrc\":false,\"EnableODirect\":false,\"EnableParallelDownloads\":false,\"MaxParallelDownloads\":192,\"MaxSizeMb\":-1,\"ParallelDownloadsPerFile\":16,\"WriteBufferSize\":4194304},\"FileSystem\":{\"DirMode\":\"755\",\"DisableParallelDirops\":false,\"FileMode\":\"644\",\"FuseOptions\":[],\"Gid\":-1,\"IgnoreInterrupts\":true,\"KernelListCacheTtlSecs\":0,\"RenameDirLimit\":0,\"TempDir\":\"\",\"Uid\":-1},\"Foreground\":false,\"GcsAuth\":{\"AnonymousAccess\":false,\"KeyFile\":\"\",\"ReuseTokenFromUrl\":true,\"TokenUrl\":\"\"},\"GcsConnection\":{\"BillingProject\":\"\",\"ClientProtocol\":\"http1\",\"CustomEndpoint\":\"\",\"ExperimentalEnableJsonRead\":false,\"GrpcConnPoolSize\":1,\"HttpClientTimeout\":0,\"LimitBytesPerSec\":-1,\"LimitOpsPerSec\":-1,\"MaxConnsPerHost\":0,\"MaxIdleConnsPerHost\":100,\"SequentialReadSizeMb\":200},\"GcsRetries\":{\"MaxRetryAttempts\":0,\"MaxRetrySleep\":30000000000,\"Multiplier\":2},\"ImplicitDirs\":false,\"List\":{\"EnableEmptyManagedFolders\":false},\"Logging\":{\"FilePath\":\"\",\"Format\":\"json\",\"LogRotate\":{\"BackupFileCount\":10,\"Compress\":true,\"MaxFileSizeMb\":512},\"Severity\":\"INFO\"},\"MetadataCache\":{\"DeprecatedStatCacheCapacity\":20460,\"DeprecatedStatCacheTtl\":60000000000,\"DeprecatedTypeCacheTtl\":60000000000,\"EnableNonexistentTypeCache\":false,\"ExperimentalMetadataPrefetchOnMount\":\"disabled\",\"StatCacheMaxSizeMb\":32,\"TtlSecs\":60,\"TypeCacheMaxSizeMb\":4},\"Metrics\":{\"PrometheusPort\":0,\"StackdriverExportInterval\":0},\"Monitoring\":{\"ExperimentalOpentelemetryCollectorAddress\":\"\",\"ExperimentalTracingMode\":\"\",\"ExperimentalTracingSamplingRatio\":0},\"OnlyDir\":\"\",\"Write\":{\"CreateEmptyFile\":false}}}\n",
      "Error: daemonize.Run: readFromProcess: sub-process: Error while mounting gcsfuse: mountWithArgs: mountWithStorageHandle: mount: mount: running /usr/bin/fusermount: exit status 1\n",
      "{\"timestamp\":{\"seconds\":1729863032,\"nanos\":253745532},\"severity\":\"INFO\",\"message\":\"2024/10/25 13:30:32.253710 Error occurred during command execution: daemonize.Run: readFromProcess: sub-process: Error while mounting gcsfuse: mountWithArgs: mountWithStorageHandle: mount: mount: running /usr/bin/fusermount: exit status 1\"}\n"
     ]
    }
   ],
   "source": [
    "!gcsfuse nnn-bucket-55679 ./bucker"
   ]
  },
  {
   "cell_type": "code",
   "execution_count": 3,
   "id": "dbe5a770-26e2-4e55-9ec5-123e7eb47fbd",
   "metadata": {
    "tags": []
   },
   "outputs": [],
   "source": [
    "!echo \"Which Star Wars character is best at photoshop?\" > ./bucker/test.txt"
   ]
  },
  {
   "cell_type": "code",
   "execution_count": 4,
   "id": "2d522f06-13dd-4555-8494-6fbcd2fc7576",
   "metadata": {
    "tags": []
   },
   "outputs": [
    {
     "name": "stdout",
     "output_type": "stream",
     "text": [
      "jupyter\n"
     ]
    }
   ],
   "source": [
    "!whoami"
   ]
  },
  {
   "cell_type": "code",
   "execution_count": 5,
   "id": "d912235b-f89c-4159-9e44-19656da39a01",
   "metadata": {
    "tags": []
   },
   "outputs": [
    {
     "name": "stdout",
     "output_type": "stream",
     "text": [
      "1.0376324653625488\n"
     ]
    }
   ],
   "source": [
    "print(time.time() - start)"
   ]
  }
 ],
 "metadata": {
  "environment": {
   "kernel": "conda-env-pytorch-pytorch",
   "name": "workbench-notebooks.m125",
   "type": "gcloud",
   "uri": "us-docker.pkg.dev/deeplearning-platform-release/gcr.io/workbench-notebooks:m125"
  },
  "kernelspec": {
   "display_name": "PyTorch 1-13 (Local)",
   "language": "python",
   "name": "conda-env-pytorch-pytorch"
  },
  "language_info": {
   "codemirror_mode": {
    "name": "ipython",
    "version": 3
   },
   "file_extension": ".py",
   "mimetype": "text/x-python",
   "name": "python",
   "nbconvert_exporter": "python",
   "pygments_lexer": "ipython3",
   "version": "3.10.15"
  }
 },
 "nbformat": 4,
 "nbformat_minor": 5
}
