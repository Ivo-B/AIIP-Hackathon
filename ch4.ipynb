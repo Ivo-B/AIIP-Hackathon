{
 "cells": [
  {
   "cell_type": "code",
   "execution_count": 2,
   "id": "7a119026-cde0-47ed-8991-23b73b58da0a",
   "metadata": {
    "tags": []
   },
   "outputs": [],
   "source": [
    "from PIL import Image, ImageDraw\n",
    "\n",
    "# Create a new grayscale image (100x100 pixels)\n",
    "image = Image.new('L', (100, 100), color=128)  # 'L' mode for grayscale, initial gray value 128\n",
    "\n",
    "# Create a drawing object\n",
    "draw = ImageDraw.Draw(image)\n",
    "\n",
    "# Draw a simple shape (rectangle)\n",
    "draw.rectangle([25, 25, 75, 75], fill=200)  # Lighter gray rectangle in the center\n",
    "\n",
    "# Save the image\n",
    "image_path = \"./demo_image.png\"\n",
    "image.save(image_path)\n"
   ]
  },
  {
   "cell_type": "code",
   "execution_count": 8,
   "id": "b36286cd-0134-4465-8885-22bdfbb31019",
   "metadata": {
    "tags": []
   },
   "outputs": [
    {
     "name": "stdout",
     "output_type": "stream",
     "text": [
      "{'mean_gray_value': 146.7272, 'std_dev_gray_value': 31.585604001823363}\n",
      "0.005941867828369141\n"
     ]
    }
   ],
   "source": [
    "import time\n",
    "start = time.time()\n",
    "\n",
    "import requests\n",
    "\n",
    "# The URL where the FastAPI server is running\n",
    "url = \"http://127.0.0.1:8000/analyze-image/\"\n",
    "\n",
    "# Path to the image file you want to upload\n",
    "image_path = \"./demo_image.png\"\n",
    "\n",
    "# Open the image file in binary mode\n",
    "with open(image_path, \"rb\") as file:\n",
    "    files = {\"file\": file}\n",
    "    \n",
    "    # Send POST request to the FastAPI endpoint\n",
    "    response = requests.post(url, files=files)\n",
    "\n",
    "# Output the response from the API\n",
    "print(response.json())\n",
    "\n",
    "print(time.time() - start)"
   ]
  },
  {
   "cell_type": "code",
   "execution_count": null,
   "id": "23e5332f-8a8c-4ce5-9a0c-1d67b75b9b30",
   "metadata": {},
   "outputs": [],
   "source": []
  }
 ],
 "metadata": {
  "environment": {
   "kernel": "conda-env-pytorch-pytorch",
   "name": "workbench-notebooks.m125",
   "type": "gcloud",
   "uri": "us-docker.pkg.dev/deeplearning-platform-release/gcr.io/workbench-notebooks:m125"
  },
  "kernelspec": {
   "display_name": "PyTorch 1-13 (Local)",
   "language": "python",
   "name": "conda-env-pytorch-pytorch"
  },
  "language_info": {
   "codemirror_mode": {
    "name": "ipython",
    "version": 3
   },
   "file_extension": ".py",
   "mimetype": "text/x-python",
   "name": "python",
   "nbconvert_exporter": "python",
   "pygments_lexer": "ipython3",
   "version": "3.10.15"
  }
 },
 "nbformat": 4,
 "nbformat_minor": 5
}
