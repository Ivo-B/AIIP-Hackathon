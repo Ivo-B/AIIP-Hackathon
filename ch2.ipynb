{
 "cells": [
  {
   "cell_type": "code",
   "execution_count": 1,
   "id": "e18608dc-7d8a-4390-9412-a991b0cb3cf8",
   "metadata": {
    "tags": []
   },
   "outputs": [],
   "source": [
    "import time\n",
    "start = time.time()\n",
    "\n",
    "from tqdm import tqdm\n",
    "import numpy as np\n",
    "import torch\n",
    "import torch.nn as nn\n",
    "import torch.optim as optim\n",
    "import torch.utils.data as data\n",
    "import torchvision.transforms as transforms\n",
    "from torch.utils.data import Dataset, DataLoader\n",
    "from sklearn.datasets import make_blobs\n",
    "import matplotlib.pyplot as plt\n",
    "from sklearn.metrics import *"
   ]
  },
  {
   "cell_type": "code",
   "execution_count": 2,
   "id": "725033f3-af54-48ee-bea0-1720f74677dc",
   "metadata": {},
   "outputs": [],
   "source": [
    "chest = np.load(\"./nick_bucket/marketplace-c3kdc8vj/MedMNIST/120/artifactFiles/chestmnist_128.npz\")\n",
    "\n",
    "from PIL import Image\n",
    "\n",
    "class MyDataset(Dataset):\n",
    "  def __init__(self, x, y, transform=None, as_rgb=True):\n",
    "    super().__init__()\n",
    "    self.x = x\n",
    "    self.y = y \n",
    "    self.transform = transform\n",
    "    self.as_rgb = as_rgb\n",
    "  \n",
    "  def __getitem__(self, idx):\n",
    "    img, target = self.x[idx], self.y[idx].astype(int)\n",
    "    img = Image.fromarray(img)\n",
    "    if self.as_rgb:\n",
    "        img = img.convert('RGB')\n",
    "\n",
    "    if self.transform is not None:\n",
    "        img = self.transform(img)\n",
    "    \n",
    "    return img, target\n",
    "\n",
    "  def __repr__(self):\n",
    "    return \"This is my dataset and it has length {}\".format(len(self))\n",
    "\n",
    "  def __len__(self):\n",
    "    assert len(self.x) == len(self.y)\n",
    "    return len(self.y)"
   ]
  },
  {
   "cell_type": "code",
   "execution_count": null,
   "id": "1368b9d3-31f6-4c5c-b31e-9978db0c42b4",
   "metadata": {
    "tags": []
   },
   "outputs": [],
   "source": []
  },
  {
   "cell_type": "code",
   "execution_count": 3,
   "id": "f6666563-8713-44fe-b65a-1202fdaaab2a",
   "metadata": {},
   "outputs": [],
   "source": [
    "data_transform = transforms.Compose([\n",
    "    transforms.ToTensor(),\n",
    "    transforms.Normalize(mean=[.5], std=[.5])])\n",
    "\n",
    "my_dataset = MyDataset(chest['train_images'], chest['train_labels'], transform=data_transform, as_rgb=True)\n",
    "my_dataloader = DataLoader(my_dataset, batch_size=128)"
   ]
  },
  {
   "cell_type": "code",
   "execution_count": 4,
   "id": "43593138-47bf-4729-bc6a-0ea0b61fc1b2",
   "metadata": {},
   "outputs": [],
   "source": [
    "val_dataset = MyDataset(chest['val_images'], chest['val_labels'], transform=data_transform)\n",
    "val_dataloader = DataLoader(val_dataset, batch_size=128)\n",
    "\n",
    "test_dataset = MyDataset(chest['test_images'], chest['test_labels'], transform=data_transform)\n",
    "test_dataloader = DataLoader(test_dataset, batch_size=128)\n",
    "\n",
    "label_mapping = ['atelectasis', 'cardiomegaly', 'effusion', 'infiltration', 'mass', 'nodule', 'pneumonia', 'pneumothorax', 'consolidation', 'edema', 'emphysema', 'fibrosis', 'pleural', 'hernia']\n"
   ]
  },
  {
   "cell_type": "code",
   "execution_count": 5,
   "id": "42adb509-c380-4b61-8544-70f1655ecfbf",
   "metadata": {},
   "outputs": [],
   "source": [
    "\n",
    "import sys\n",
    "sys.path.insert(0, './classifying-chestMNIST')\n",
    "from models import ResNet18\n",
    "net = ResNet18(in_channels=3, num_classes=14)\n"
   ]
  },
  {
   "cell_type": "code",
   "execution_count": 6,
   "id": "131c606a-b3cb-4b5c-97d6-24e5d3666877",
   "metadata": {},
   "outputs": [],
   "source": [
    "###################################################"
   ]
  },
  {
   "cell_type": "code",
   "execution_count": 7,
   "id": "7e1a9daa-35af-4567-a5cc-b43d19714881",
   "metadata": {},
   "outputs": [],
   "source": [
    "num_epochs = 1\n",
    "lr = 0.001\n",
    "gamma=0.1\n",
    "milestones = [0.5 * num_epochs, 0.75 * num_epochs]\n",
    "\n",
    "# Optimizer\n",
    "optimizer = torch.optim.Adam(net.parameters(), lr=lr)\n",
    "\n",
    "# Scheduler\n",
    "scheduler = torch.optim.lr_scheduler.MultiStepLR(optimizer, milestones=milestones, gamma=gamma)\n",
    "\n",
    "# Loss function (cross entropy for classification)\n",
    "loss_func = nn.BCEWithLogitsLoss()"
   ]
  },
  {
   "cell_type": "code",
   "execution_count": 8,
   "id": "497e7fc0-0c01-464b-a60d-e2901334730e",
   "metadata": {
    "tags": []
   },
   "outputs": [],
   "source": [
    "def getAUC(y_true, y_score):\n",
    "    '''AUC metric.\n",
    "    :param y_true: the ground truth labels, shape: (n_samples, n_labels) or (n_samples,) if n_labels==1\n",
    "    :param y_score: the predicted score of each class,\n",
    "    shape: (n_samples, n_labels) or (n_samples, n_classes) or (n_samples,) if n_labels==1 or n_classes==1\n",
    "    :param task: the task of current dataset\n",
    "    '''\n",
    "    y_true = y_true.squeeze()\n",
    "    y_score = y_score.squeeze()\n",
    "\n",
    "    auc = 0\n",
    "    for i in range(y_score.shape[1]):\n",
    "        label_auc = roc_auc_score(y_true[:, i], y_score[:, i])\n",
    "        auc += label_auc\n",
    "    ret = auc / y_score.shape[1]\n",
    "\n",
    "    return ret"
   ]
  },
  {
   "cell_type": "code",
   "execution_count": 9,
   "id": "ae8ff6be-2696-4c18-abff-7e050cc81449",
   "metadata": {
    "tags": []
   },
   "outputs": [],
   "source": [
    "def getACC(y_true, y_score, threshold=0.5):\n",
    "    '''Accuracy metric.\n",
    "    :param y_true: the ground truth labels, shape: (n_samples, n_labels) or (n_samples,) if n_labels==1\n",
    "    :param y_score: the predicted score of each class,\n",
    "    shape: (n_samples, n_labels) or (n_samples, n_classes) or (n_samples,) if n_labels==1 or n_classes==1\n",
    "    :param task: the task of current dataset\n",
    "    :param threshold: the threshold for multilabel and binary-class tasks\n",
    "    '''\n",
    "    y_true = y_true.squeeze()\n",
    "    y_score = y_score.squeeze()\n",
    "\n",
    "    y_pre = y_score > threshold\n",
    "    acc = 0\n",
    "    for label in range(y_true.shape[1]):\n",
    "        label_acc = accuracy_score(y_true[:, label], y_pre[:, label])\n",
    "        acc += label_acc\n",
    "    ret = acc / y_true.shape[1]\n",
    "\n",
    "    return ret"
   ]
  },
  {
   "cell_type": "code",
   "execution_count": 10,
   "id": "18ef2f38-26db-49c4-aa15-d4dcbcea21de",
   "metadata": {
    "tags": []
   },
   "outputs": [],
   "source": [
    "from sklearn.metrics import roc_auc_score, accuracy_score\n",
    "def test(model, split_labels, data_loader, criterion, device='cuda', raw=False):\n",
    "    model.cuda()\n",
    "    model.eval()\n",
    "    \n",
    "    total_loss = []\n",
    "    y_score = torch.tensor([]).to('cpu')\n",
    "    with torch.no_grad():\n",
    "        for batch in data_loader:\n",
    "            # Forward pass \n",
    "            inp, labels = batch\n",
    "            inp = torch.tensor(inp.cuda(), dtype=torch.float32)\n",
    "            out = model(inp)\n",
    "            labels = labels.to(torch.float32).cuda()\n",
    "            loss = criterion(out, labels)\n",
    "\n",
    "            # Get predictions from scores\n",
    "            sigmoid = torch.nn.Sigmoid()\n",
    "            answers = sigmoid(out).data.cpu()\n",
    "\n",
    "            # Recording values\n",
    "            y_score = torch.cat((y_score, answers), 0)\n",
    "            total_loss.append(loss.item())\n",
    "        \n",
    "        y_score = y_score.cpu().data.numpy()\n",
    "        auc = getAUC(split_labels, y_score)\n",
    "        acc = getACC(split_labels, y_score)\n",
    "\n",
    "        testing_loss = np.mean(total_loss)\n",
    "\n",
    "        if raw:\n",
    "            return [testing_loss, auc, acc, split_labels, y_score]\n",
    "\n",
    "        return [testing_loss, auc, acc]"
   ]
  },
  {
   "cell_type": "code",
   "execution_count": 11,
   "id": "922e41f4-041f-4abf-8bd7-93dccf36f996",
   "metadata": {
    "tags": []
   },
   "outputs": [
    {
     "name": "stderr",
     "output_type": "stream",
     "text": [
      "/var/tmp/ipykernel_2611/3801934466.py:15: UserWarning: To copy construct from a tensor, it is recommended to use sourceTensor.clone().detach() or sourceTensor.clone().detach().requires_grad_(True), rather than torch.tensor(sourceTensor).\n",
      "  inp = torch.tensor(inp.cuda(), dtype=torch.float32)\n",
      "/var/tmp/ipykernel_2611/2912586985.py:12: UserWarning: To copy construct from a tensor, it is recommended to use sourceTensor.clone().detach() or sourceTensor.clone().detach().requires_grad_(True), rather than torch.tensor(sourceTensor).\n",
      "  inp = torch.tensor(inp.cuda(), dtype=torch.float32)\n"
     ]
    },
    {
     "name": "stdout",
     "output_type": "stream",
     "text": [
      "Epoch 0 is the best yet with Val ACC = 0.9484484229559549\n"
     ]
    }
   ],
   "source": [
    "net.cuda()\n",
    "\n",
    "best_epoch = 0\n",
    "best_auc = 0\n",
    "best_model = net\n",
    "\n",
    "for epoch in range(num_epochs): # We go over the data ten times\n",
    "    losses = []\n",
    "    net.train()\n",
    "    for batch in my_dataloader:\n",
    "        optimizer.zero_grad()\n",
    "\n",
    "        # Forward pass \n",
    "        inp, labels = batch\n",
    "        inp = torch.tensor(inp.cuda(), dtype=torch.float32)\n",
    "        out = net(inp)\n",
    "        labels = labels.to(torch.float32).cuda()\n",
    "        loss = loss_func(out, labels)\n",
    "        losses.append(loss.item())\n",
    "\n",
    "        # Backward pass\n",
    "        loss.backward()\n",
    "        optimizer.step()\n",
    "    \n",
    "    train_loss = np.mean(losses)\n",
    "    val_metrics = test(net, chest['val_labels'], val_dataloader, loss_func)\n",
    "\n",
    "    cur_auc = val_metrics[2]\n",
    "    if cur_auc > best_auc:\n",
    "        best_epoch = epoch\n",
    "        best_auc = cur_auc\n",
    "        best_model = net\n",
    "        print(f\"Epoch {best_epoch} is the best yet with Val ACC = {best_auc}\")\n",
    "        torch.save(best_model, './ch-2/chest_resnet18_224.pt')\n",
    "    \n",
    "    scheduler.step()"
   ]
  },
  {
   "cell_type": "code",
   "execution_count": 12,
   "id": "d771edd0-735c-44c5-bb48-dfbfe3d0994c",
   "metadata": {
    "tags": []
   },
   "outputs": [
    {
     "name": "stderr",
     "output_type": "stream",
     "text": [
      "/var/tmp/ipykernel_2611/2912586985.py:12: UserWarning: To copy construct from a tensor, it is recommended to use sourceTensor.clone().detach() or sourceTensor.clone().detach().requires_grad_(True), rather than torch.tensor(sourceTensor).\n",
      "  inp = torch.tensor(inp.cuda(), dtype=torch.float32)\n"
     ]
    }
   ],
   "source": [
    "test_metrics = test(net, chest['test_labels'], test_dataloader, loss_func, raw=True)"
   ]
  },
  {
   "cell_type": "code",
   "execution_count": 13,
   "id": "3d86f028-5fba-4e5e-9386-e5a30164e70d",
   "metadata": {
    "tags": []
   },
   "outputs": [
    {
     "name": "stdout",
     "output_type": "stream",
     "text": [
      "Test AUC: 0.643341 \n",
      "Test ACC: 0.946622\n"
     ]
    }
   ],
   "source": [
    "y_true, y_score = test_metrics[-2], test_metrics[-1]\n",
    "print(f\"Test AUC: {test_metrics[1]:5f} \\nTest ACC: {test_metrics[2]:5f}\")"
   ]
  },
  {
   "cell_type": "code",
   "execution_count": 14,
   "id": "ea9b2a51-8900-49ec-8232-9e82017897ad",
   "metadata": {},
   "outputs": [
    {
     "name": "stdout",
     "output_type": "stream",
     "text": [
      "344.6658489704132\n"
     ]
    }
   ],
   "source": [
    "end = time.time()\n",
    "\n",
    "print(end - start)"
   ]
  },
  {
   "cell_type": "code",
   "execution_count": null,
   "id": "da774856-98e4-441d-8622-c925d6d4fee2",
   "metadata": {},
   "outputs": [],
   "source": []
  },
  {
   "cell_type": "code",
   "execution_count": null,
   "id": "0c88021a-a10b-4b08-8323-c728989d4d98",
   "metadata": {},
   "outputs": [],
   "source": []
  }
 ],
 "metadata": {
  "environment": {
   "kernel": "conda-env-pytorch-pytorch",
   "name": "workbench-notebooks.m125",
   "type": "gcloud",
   "uri": "us-docker.pkg.dev/deeplearning-platform-release/gcr.io/workbench-notebooks:m125"
  },
  "kernelspec": {
   "display_name": "PyTorch 1-13 (Local)",
   "language": "python",
   "name": "conda-env-pytorch-pytorch"
  },
  "language_info": {
   "codemirror_mode": {
    "name": "ipython",
    "version": 3
   },
   "file_extension": ".py",
   "mimetype": "text/x-python",
   "name": "python",
   "nbconvert_exporter": "python",
   "pygments_lexer": "ipython3",
   "version": "3.10.15"
  }
 },
 "nbformat": 4,
 "nbformat_minor": 5
}
